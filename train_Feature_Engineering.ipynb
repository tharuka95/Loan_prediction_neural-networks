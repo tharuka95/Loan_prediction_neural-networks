{
 "cells": [
  {
   "cell_type": "code",
   "execution_count": 1,
   "metadata": {},
   "outputs": [
    {
     "name": "stderr",
     "output_type": "stream",
     "text": [
      "Using TensorFlow backend.\n"
     ]
    }
   ],
   "source": [
    "# Importing the libraries\n",
    "import numpy as np\n",
    "import matplotlib.pyplot as plt\n",
    "import pandas as pd\n",
    "import keras"
   ]
  },
  {
   "cell_type": "code",
   "execution_count": 2,
   "metadata": {},
   "outputs": [],
   "source": [
    "# Importing the dataset\n",
    "train = pd.read_csv('train.csv')\n",
    "test = pd.read_csv('test_clean.csv')"
   ]
  },
  {
   "cell_type": "code",
   "execution_count": 3,
   "metadata": {},
   "outputs": [
    {
     "data": {
      "text/plain": [
       "(289, 13)"
      ]
     },
     "execution_count": 3,
     "metadata": {},
     "output_type": "execute_result"
    }
   ],
   "source": [
    "test.shape"
   ]
  },
  {
   "cell_type": "code",
   "execution_count": 4,
   "metadata": {
    "scrolled": true
   },
   "outputs": [
    {
     "data": {
      "text/html": [
       "<div>\n",
       "<style scoped>\n",
       "    .dataframe tbody tr th:only-of-type {\n",
       "        vertical-align: middle;\n",
       "    }\n",
       "\n",
       "    .dataframe tbody tr th {\n",
       "        vertical-align: top;\n",
       "    }\n",
       "\n",
       "    .dataframe thead th {\n",
       "        text-align: right;\n",
       "    }\n",
       "</style>\n",
       "<table border=\"1\" class=\"dataframe\">\n",
       "  <thead>\n",
       "    <tr style=\"text-align: right;\">\n",
       "      <th></th>\n",
       "      <th>ApplicantIncome</th>\n",
       "      <th>CoapplicantIncome</th>\n",
       "      <th>LoanAmount</th>\n",
       "      <th>Loan_Amount_Term</th>\n",
       "      <th>Credit_History</th>\n",
       "    </tr>\n",
       "  </thead>\n",
       "  <tbody>\n",
       "    <tr>\n",
       "      <th>count</th>\n",
       "      <td>614.000000</td>\n",
       "      <td>614.000000</td>\n",
       "      <td>592.000000</td>\n",
       "      <td>600.00000</td>\n",
       "      <td>564.000000</td>\n",
       "    </tr>\n",
       "    <tr>\n",
       "      <th>mean</th>\n",
       "      <td>5403.459283</td>\n",
       "      <td>1621.245798</td>\n",
       "      <td>146.412162</td>\n",
       "      <td>342.00000</td>\n",
       "      <td>0.842199</td>\n",
       "    </tr>\n",
       "    <tr>\n",
       "      <th>std</th>\n",
       "      <td>6109.041673</td>\n",
       "      <td>2926.248369</td>\n",
       "      <td>85.587325</td>\n",
       "      <td>65.12041</td>\n",
       "      <td>0.364878</td>\n",
       "    </tr>\n",
       "    <tr>\n",
       "      <th>min</th>\n",
       "      <td>150.000000</td>\n",
       "      <td>0.000000</td>\n",
       "      <td>9.000000</td>\n",
       "      <td>12.00000</td>\n",
       "      <td>0.000000</td>\n",
       "    </tr>\n",
       "    <tr>\n",
       "      <th>25%</th>\n",
       "      <td>2877.500000</td>\n",
       "      <td>0.000000</td>\n",
       "      <td>100.000000</td>\n",
       "      <td>360.00000</td>\n",
       "      <td>1.000000</td>\n",
       "    </tr>\n",
       "    <tr>\n",
       "      <th>50%</th>\n",
       "      <td>3812.500000</td>\n",
       "      <td>1188.500000</td>\n",
       "      <td>128.000000</td>\n",
       "      <td>360.00000</td>\n",
       "      <td>1.000000</td>\n",
       "    </tr>\n",
       "    <tr>\n",
       "      <th>75%</th>\n",
       "      <td>5795.000000</td>\n",
       "      <td>2297.250000</td>\n",
       "      <td>168.000000</td>\n",
       "      <td>360.00000</td>\n",
       "      <td>1.000000</td>\n",
       "    </tr>\n",
       "    <tr>\n",
       "      <th>max</th>\n",
       "      <td>81000.000000</td>\n",
       "      <td>41667.000000</td>\n",
       "      <td>700.000000</td>\n",
       "      <td>480.00000</td>\n",
       "      <td>1.000000</td>\n",
       "    </tr>\n",
       "  </tbody>\n",
       "</table>\n",
       "</div>"
      ],
      "text/plain": [
       "       ApplicantIncome  CoapplicantIncome  LoanAmount  Loan_Amount_Term  \\\n",
       "count       614.000000         614.000000  592.000000         600.00000   \n",
       "mean       5403.459283        1621.245798  146.412162         342.00000   \n",
       "std        6109.041673        2926.248369   85.587325          65.12041   \n",
       "min         150.000000           0.000000    9.000000          12.00000   \n",
       "25%        2877.500000           0.000000  100.000000         360.00000   \n",
       "50%        3812.500000        1188.500000  128.000000         360.00000   \n",
       "75%        5795.000000        2297.250000  168.000000         360.00000   \n",
       "max       81000.000000       41667.000000  700.000000         480.00000   \n",
       "\n",
       "       Credit_History  \n",
       "count      564.000000  \n",
       "mean         0.842199  \n",
       "std          0.364878  \n",
       "min          0.000000  \n",
       "25%          1.000000  \n",
       "50%          1.000000  \n",
       "75%          1.000000  \n",
       "max          1.000000  "
      ]
     },
     "execution_count": 4,
     "metadata": {},
     "output_type": "execute_result"
    }
   ],
   "source": [
    "train.describe()"
   ]
  },
  {
   "cell_type": "code",
   "execution_count": 5,
   "metadata": {},
   "outputs": [],
   "source": [
    "train.dropna(inplace=True)"
   ]
  },
  {
   "cell_type": "code",
   "execution_count": 6,
   "metadata": {},
   "outputs": [
    {
     "data": {
      "text/plain": [
       "(480, 13)"
      ]
     },
     "execution_count": 6,
     "metadata": {},
     "output_type": "execute_result"
    }
   ],
   "source": [
    "train.shape"
   ]
  },
  {
   "cell_type": "code",
   "execution_count": 7,
   "metadata": {},
   "outputs": [],
   "source": [
    "from sklearn.preprocessing import LabelEncoder, OneHotEncoder"
   ]
  },
  {
   "cell_type": "code",
   "execution_count": 8,
   "metadata": {},
   "outputs": [],
   "source": [
    "labelencoder1 = LabelEncoder()\n",
    "train['Gender']= labelencoder1.fit_transform(train['Gender'])"
   ]
  },
  {
   "cell_type": "code",
   "execution_count": 9,
   "metadata": {},
   "outputs": [],
   "source": [
    "labelencoder2 = LabelEncoder()\n",
    "train['Married']= labelencoder2.fit_transform(train['Married'])"
   ]
  },
  {
   "cell_type": "code",
   "execution_count": 10,
   "metadata": {
    "scrolled": true
   },
   "outputs": [],
   "source": [
    "labelencoder3 = LabelEncoder()\n",
    "train['Education']= labelencoder3.fit_transform(train['Education'])"
   ]
  },
  {
   "cell_type": "code",
   "execution_count": 11,
   "metadata": {},
   "outputs": [],
   "source": [
    "labelencoder4 = LabelEncoder()\n",
    "train['Self_Employed']= labelencoder4.fit_transform(train['Self_Employed'])"
   ]
  },
  {
   "cell_type": "code",
   "execution_count": 12,
   "metadata": {},
   "outputs": [],
   "source": [
    "labelencoder5 = LabelEncoder()\n",
    "train['Property_Area']= labelencoder5.fit_transform(train['Property_Area'])"
   ]
  },
  {
   "cell_type": "code",
   "execution_count": 13,
   "metadata": {},
   "outputs": [],
   "source": [
    "labelencoder6 = LabelEncoder()\n",
    "train['Loan_Status']= labelencoder6.fit_transform(train['Loan_Status'])"
   ]
  },
  {
   "cell_type": "code",
   "execution_count": 14,
   "metadata": {
    "scrolled": true
   },
   "outputs": [
    {
     "data": {
      "text/html": [
       "<div>\n",
       "<style scoped>\n",
       "    .dataframe tbody tr th:only-of-type {\n",
       "        vertical-align: middle;\n",
       "    }\n",
       "\n",
       "    .dataframe tbody tr th {\n",
       "        vertical-align: top;\n",
       "    }\n",
       "\n",
       "    .dataframe thead th {\n",
       "        text-align: right;\n",
       "    }\n",
       "</style>\n",
       "<table border=\"1\" class=\"dataframe\">\n",
       "  <thead>\n",
       "    <tr style=\"text-align: right;\">\n",
       "      <th></th>\n",
       "      <th>Gender</th>\n",
       "      <th>Married</th>\n",
       "      <th>Education</th>\n",
       "      <th>Self_Employed</th>\n",
       "      <th>ApplicantIncome</th>\n",
       "      <th>CoapplicantIncome</th>\n",
       "      <th>LoanAmount</th>\n",
       "      <th>Loan_Amount_Term</th>\n",
       "      <th>Credit_History</th>\n",
       "      <th>Property_Area</th>\n",
       "      <th>Loan_Status</th>\n",
       "    </tr>\n",
       "  </thead>\n",
       "  <tbody>\n",
       "    <tr>\n",
       "      <th>count</th>\n",
       "      <td>480.000000</td>\n",
       "      <td>480.000000</td>\n",
       "      <td>480.000000</td>\n",
       "      <td>480.000000</td>\n",
       "      <td>480.000000</td>\n",
       "      <td>480.000000</td>\n",
       "      <td>480.000000</td>\n",
       "      <td>480.000000</td>\n",
       "      <td>480.000000</td>\n",
       "      <td>480.000000</td>\n",
       "      <td>480.000000</td>\n",
       "    </tr>\n",
       "    <tr>\n",
       "      <th>mean</th>\n",
       "      <td>0.820833</td>\n",
       "      <td>0.647917</td>\n",
       "      <td>0.202083</td>\n",
       "      <td>0.137500</td>\n",
       "      <td>5364.231250</td>\n",
       "      <td>1581.093583</td>\n",
       "      <td>144.735417</td>\n",
       "      <td>342.050000</td>\n",
       "      <td>0.854167</td>\n",
       "      <td>1.022917</td>\n",
       "      <td>0.691667</td>\n",
       "    </tr>\n",
       "    <tr>\n",
       "      <th>std</th>\n",
       "      <td>0.383892</td>\n",
       "      <td>0.478118</td>\n",
       "      <td>0.401973</td>\n",
       "      <td>0.344734</td>\n",
       "      <td>5668.251251</td>\n",
       "      <td>2617.692267</td>\n",
       "      <td>80.508164</td>\n",
       "      <td>65.212401</td>\n",
       "      <td>0.353307</td>\n",
       "      <td>0.776411</td>\n",
       "      <td>0.462287</td>\n",
       "    </tr>\n",
       "    <tr>\n",
       "      <th>min</th>\n",
       "      <td>0.000000</td>\n",
       "      <td>0.000000</td>\n",
       "      <td>0.000000</td>\n",
       "      <td>0.000000</td>\n",
       "      <td>150.000000</td>\n",
       "      <td>0.000000</td>\n",
       "      <td>9.000000</td>\n",
       "      <td>36.000000</td>\n",
       "      <td>0.000000</td>\n",
       "      <td>0.000000</td>\n",
       "      <td>0.000000</td>\n",
       "    </tr>\n",
       "    <tr>\n",
       "      <th>25%</th>\n",
       "      <td>1.000000</td>\n",
       "      <td>0.000000</td>\n",
       "      <td>0.000000</td>\n",
       "      <td>0.000000</td>\n",
       "      <td>2898.750000</td>\n",
       "      <td>0.000000</td>\n",
       "      <td>100.000000</td>\n",
       "      <td>360.000000</td>\n",
       "      <td>1.000000</td>\n",
       "      <td>0.000000</td>\n",
       "      <td>0.000000</td>\n",
       "    </tr>\n",
       "    <tr>\n",
       "      <th>50%</th>\n",
       "      <td>1.000000</td>\n",
       "      <td>1.000000</td>\n",
       "      <td>0.000000</td>\n",
       "      <td>0.000000</td>\n",
       "      <td>3859.000000</td>\n",
       "      <td>1084.500000</td>\n",
       "      <td>128.000000</td>\n",
       "      <td>360.000000</td>\n",
       "      <td>1.000000</td>\n",
       "      <td>1.000000</td>\n",
       "      <td>1.000000</td>\n",
       "    </tr>\n",
       "    <tr>\n",
       "      <th>75%</th>\n",
       "      <td>1.000000</td>\n",
       "      <td>1.000000</td>\n",
       "      <td>0.000000</td>\n",
       "      <td>0.000000</td>\n",
       "      <td>5852.500000</td>\n",
       "      <td>2253.250000</td>\n",
       "      <td>170.000000</td>\n",
       "      <td>360.000000</td>\n",
       "      <td>1.000000</td>\n",
       "      <td>2.000000</td>\n",
       "      <td>1.000000</td>\n",
       "    </tr>\n",
       "    <tr>\n",
       "      <th>max</th>\n",
       "      <td>1.000000</td>\n",
       "      <td>1.000000</td>\n",
       "      <td>1.000000</td>\n",
       "      <td>1.000000</td>\n",
       "      <td>81000.000000</td>\n",
       "      <td>33837.000000</td>\n",
       "      <td>600.000000</td>\n",
       "      <td>480.000000</td>\n",
       "      <td>1.000000</td>\n",
       "      <td>2.000000</td>\n",
       "      <td>1.000000</td>\n",
       "    </tr>\n",
       "  </tbody>\n",
       "</table>\n",
       "</div>"
      ],
      "text/plain": [
       "           Gender     Married   Education  Self_Employed  ApplicantIncome  \\\n",
       "count  480.000000  480.000000  480.000000     480.000000       480.000000   \n",
       "mean     0.820833    0.647917    0.202083       0.137500      5364.231250   \n",
       "std      0.383892    0.478118    0.401973       0.344734      5668.251251   \n",
       "min      0.000000    0.000000    0.000000       0.000000       150.000000   \n",
       "25%      1.000000    0.000000    0.000000       0.000000      2898.750000   \n",
       "50%      1.000000    1.000000    0.000000       0.000000      3859.000000   \n",
       "75%      1.000000    1.000000    0.000000       0.000000      5852.500000   \n",
       "max      1.000000    1.000000    1.000000       1.000000     81000.000000   \n",
       "\n",
       "       CoapplicantIncome  LoanAmount  Loan_Amount_Term  Credit_History  \\\n",
       "count         480.000000  480.000000        480.000000      480.000000   \n",
       "mean         1581.093583  144.735417        342.050000        0.854167   \n",
       "std          2617.692267   80.508164         65.212401        0.353307   \n",
       "min             0.000000    9.000000         36.000000        0.000000   \n",
       "25%             0.000000  100.000000        360.000000        1.000000   \n",
       "50%          1084.500000  128.000000        360.000000        1.000000   \n",
       "75%          2253.250000  170.000000        360.000000        1.000000   \n",
       "max         33837.000000  600.000000        480.000000        1.000000   \n",
       "\n",
       "       Property_Area  Loan_Status  \n",
       "count     480.000000   480.000000  \n",
       "mean        1.022917     0.691667  \n",
       "std         0.776411     0.462287  \n",
       "min         0.000000     0.000000  \n",
       "25%         0.000000     0.000000  \n",
       "50%         1.000000     1.000000  \n",
       "75%         2.000000     1.000000  \n",
       "max         2.000000     1.000000  "
      ]
     },
     "execution_count": 14,
     "metadata": {},
     "output_type": "execute_result"
    }
   ],
   "source": [
    "train.describe()"
   ]
  },
  {
   "cell_type": "code",
   "execution_count": 15,
   "metadata": {},
   "outputs": [],
   "source": [
    "train = pd.concat([train, pd.get_dummies(train['Property_Area'], prefix='property', drop_first=True)],axis=1)"
   ]
  },
  {
   "cell_type": "code",
   "execution_count": 16,
   "metadata": {},
   "outputs": [],
   "source": [
    "train.drop(['Property_Area'], axis=1, inplace=True)"
   ]
  },
  {
   "cell_type": "code",
   "execution_count": 17,
   "metadata": {
    "scrolled": true
   },
   "outputs": [
    {
     "data": {
      "text/html": [
       "<div>\n",
       "<style scoped>\n",
       "    .dataframe tbody tr th:only-of-type {\n",
       "        vertical-align: middle;\n",
       "    }\n",
       "\n",
       "    .dataframe tbody tr th {\n",
       "        vertical-align: top;\n",
       "    }\n",
       "\n",
       "    .dataframe thead th {\n",
       "        text-align: right;\n",
       "    }\n",
       "</style>\n",
       "<table border=\"1\" class=\"dataframe\">\n",
       "  <thead>\n",
       "    <tr style=\"text-align: right;\">\n",
       "      <th></th>\n",
       "      <th>Loan_ID</th>\n",
       "      <th>Gender</th>\n",
       "      <th>Married</th>\n",
       "      <th>Dependents</th>\n",
       "      <th>Education</th>\n",
       "      <th>Self_Employed</th>\n",
       "      <th>ApplicantIncome</th>\n",
       "      <th>CoapplicantIncome</th>\n",
       "      <th>LoanAmount</th>\n",
       "      <th>Loan_Amount_Term</th>\n",
       "      <th>Credit_History</th>\n",
       "      <th>Loan_Status</th>\n",
       "      <th>property_1</th>\n",
       "      <th>property_2</th>\n",
       "    </tr>\n",
       "  </thead>\n",
       "  <tbody>\n",
       "    <tr>\n",
       "      <th>1</th>\n",
       "      <td>LP001003</td>\n",
       "      <td>1</td>\n",
       "      <td>1</td>\n",
       "      <td>1</td>\n",
       "      <td>0</td>\n",
       "      <td>0</td>\n",
       "      <td>4583</td>\n",
       "      <td>1508.0</td>\n",
       "      <td>128.0</td>\n",
       "      <td>360.0</td>\n",
       "      <td>1.0</td>\n",
       "      <td>0</td>\n",
       "      <td>0</td>\n",
       "      <td>0</td>\n",
       "    </tr>\n",
       "    <tr>\n",
       "      <th>2</th>\n",
       "      <td>LP001005</td>\n",
       "      <td>1</td>\n",
       "      <td>1</td>\n",
       "      <td>0</td>\n",
       "      <td>0</td>\n",
       "      <td>1</td>\n",
       "      <td>3000</td>\n",
       "      <td>0.0</td>\n",
       "      <td>66.0</td>\n",
       "      <td>360.0</td>\n",
       "      <td>1.0</td>\n",
       "      <td>1</td>\n",
       "      <td>0</td>\n",
       "      <td>1</td>\n",
       "    </tr>\n",
       "    <tr>\n",
       "      <th>3</th>\n",
       "      <td>LP001006</td>\n",
       "      <td>1</td>\n",
       "      <td>1</td>\n",
       "      <td>0</td>\n",
       "      <td>1</td>\n",
       "      <td>0</td>\n",
       "      <td>2583</td>\n",
       "      <td>2358.0</td>\n",
       "      <td>120.0</td>\n",
       "      <td>360.0</td>\n",
       "      <td>1.0</td>\n",
       "      <td>1</td>\n",
       "      <td>0</td>\n",
       "      <td>1</td>\n",
       "    </tr>\n",
       "    <tr>\n",
       "      <th>4</th>\n",
       "      <td>LP001008</td>\n",
       "      <td>1</td>\n",
       "      <td>0</td>\n",
       "      <td>0</td>\n",
       "      <td>0</td>\n",
       "      <td>0</td>\n",
       "      <td>6000</td>\n",
       "      <td>0.0</td>\n",
       "      <td>141.0</td>\n",
       "      <td>360.0</td>\n",
       "      <td>1.0</td>\n",
       "      <td>1</td>\n",
       "      <td>0</td>\n",
       "      <td>1</td>\n",
       "    </tr>\n",
       "    <tr>\n",
       "      <th>5</th>\n",
       "      <td>LP001011</td>\n",
       "      <td>1</td>\n",
       "      <td>1</td>\n",
       "      <td>2</td>\n",
       "      <td>0</td>\n",
       "      <td>1</td>\n",
       "      <td>5417</td>\n",
       "      <td>4196.0</td>\n",
       "      <td>267.0</td>\n",
       "      <td>360.0</td>\n",
       "      <td>1.0</td>\n",
       "      <td>1</td>\n",
       "      <td>0</td>\n",
       "      <td>1</td>\n",
       "    </tr>\n",
       "  </tbody>\n",
       "</table>\n",
       "</div>"
      ],
      "text/plain": [
       "    Loan_ID  Gender  Married Dependents  Education  Self_Employed  \\\n",
       "1  LP001003       1        1          1          0              0   \n",
       "2  LP001005       1        1          0          0              1   \n",
       "3  LP001006       1        1          0          1              0   \n",
       "4  LP001008       1        0          0          0              0   \n",
       "5  LP001011       1        1          2          0              1   \n",
       "\n",
       "   ApplicantIncome  CoapplicantIncome  LoanAmount  Loan_Amount_Term  \\\n",
       "1             4583             1508.0       128.0             360.0   \n",
       "2             3000                0.0        66.0             360.0   \n",
       "3             2583             2358.0       120.0             360.0   \n",
       "4             6000                0.0       141.0             360.0   \n",
       "5             5417             4196.0       267.0             360.0   \n",
       "\n",
       "   Credit_History  Loan_Status  property_1  property_2  \n",
       "1             1.0            0           0           0  \n",
       "2             1.0            1           0           1  \n",
       "3             1.0            1           0           1  \n",
       "4             1.0            1           0           1  \n",
       "5             1.0            1           0           1  "
      ]
     },
     "execution_count": 17,
     "metadata": {},
     "output_type": "execute_result"
    }
   ],
   "source": [
    "train.head()"
   ]
  },
  {
   "cell_type": "code",
   "execution_count": 18,
   "metadata": {},
   "outputs": [],
   "source": [
    "labels = train.Dependents.unique().tolist()"
   ]
  },
  {
   "cell_type": "code",
   "execution_count": 19,
   "metadata": {},
   "outputs": [
    {
     "data": {
      "text/plain": [
       "['1', '0', '2', '3+']"
      ]
     },
     "execution_count": 19,
     "metadata": {},
     "output_type": "execute_result"
    }
   ],
   "source": [
    "labels"
   ]
  },
  {
   "cell_type": "code",
   "execution_count": 20,
   "metadata": {},
   "outputs": [
    {
     "name": "stdout",
     "output_type": "stream",
     "text": [
      "<class 'pandas.core.frame.DataFrame'>\n",
      "Int64Index: 480 entries, 1 to 613\n",
      "Data columns (total 14 columns):\n",
      "Loan_ID              480 non-null object\n",
      "Gender               480 non-null int32\n",
      "Married              480 non-null int32\n",
      "Dependents           480 non-null object\n",
      "Education            480 non-null int32\n",
      "Self_Employed        480 non-null int32\n",
      "ApplicantIncome      480 non-null int64\n",
      "CoapplicantIncome    480 non-null float64\n",
      "LoanAmount           480 non-null float64\n",
      "Loan_Amount_Term     480 non-null float64\n",
      "Credit_History       480 non-null float64\n",
      "Loan_Status          480 non-null int32\n",
      "property_1           480 non-null uint8\n",
      "property_2           480 non-null uint8\n",
      "dtypes: float64(4), int32(5), int64(1), object(2), uint8(2)\n",
      "memory usage: 40.3+ KB\n"
     ]
    }
   ],
   "source": [
    "train.info()"
   ]
  },
  {
   "cell_type": "code",
   "execution_count": 21,
   "metadata": {},
   "outputs": [],
   "source": [
    "train['Dependents'] = train['Dependents'].replace(['3+'], 3)"
   ]
  },
  {
   "cell_type": "code",
   "execution_count": 22,
   "metadata": {},
   "outputs": [],
   "source": [
    "labels = train.Dependents.unique().tolist()"
   ]
  },
  {
   "cell_type": "code",
   "execution_count": 23,
   "metadata": {},
   "outputs": [
    {
     "data": {
      "text/plain": [
       "['1', '0', '2', 3]"
      ]
     },
     "execution_count": 23,
     "metadata": {},
     "output_type": "execute_result"
    }
   ],
   "source": [
    "labels"
   ]
  },
  {
   "cell_type": "code",
   "execution_count": 24,
   "metadata": {},
   "outputs": [],
   "source": [
    "from sklearn.preprocessing import StandardScaler"
   ]
  },
  {
   "cell_type": "code",
   "execution_count": 25,
   "metadata": {},
   "outputs": [],
   "source": [
    "target_name = 'Loan_Status'"
   ]
  },
  {
   "cell_type": "code",
   "execution_count": 26,
   "metadata": {},
   "outputs": [],
   "source": [
    "X = train.drop('Loan_Status', axis=1)\n",
    "y = train[target_name]"
   ]
  },
  {
   "cell_type": "code",
   "execution_count": 27,
   "metadata": {},
   "outputs": [],
   "source": [
    "X = X.iloc[:, 1:12].values"
   ]
  },
  {
   "cell_type": "code",
   "execution_count": 28,
   "metadata": {},
   "outputs": [],
   "source": [
    "from sklearn.model_selection import train_test_split"
   ]
  },
  {
   "cell_type": "code",
   "execution_count": 29,
   "metadata": {},
   "outputs": [],
   "source": [
    "y_train = train[0:480]['Loan_Status'].values\n",
    "X_train = train[0:480].drop(['Loan_ID','Loan_Status'], axis=1).values\n",
    "X_test  = test[0:367].drop(['Loan_ID'], axis=1).values"
   ]
  },
  {
   "cell_type": "code",
   "execution_count": 30,
   "metadata": {},
   "outputs": [
    {
     "data": {
      "text/plain": [
       "array([[1, 1, '1', ..., 1.0, 0, 0],\n",
       "       [1, 1, '0', ..., 1.0, 0, 1],\n",
       "       [1, 1, '0', ..., 1.0, 0, 1],\n",
       "       ...,\n",
       "       [1, 1, '1', ..., 1.0, 0, 1],\n",
       "       [1, 1, '2', ..., 1.0, 0, 1],\n",
       "       [0, 0, '0', ..., 0.0, 1, 0]], dtype=object)"
      ]
     },
     "execution_count": 30,
     "metadata": {},
     "output_type": "execute_result"
    }
   ],
   "source": [
    "X_train"
   ]
  },
  {
   "cell_type": "code",
   "execution_count": 31,
   "metadata": {},
   "outputs": [
    {
     "name": "stderr",
     "output_type": "stream",
     "text": [
      "D:\\conda_env\\dl_new\\lib\\site-packages\\sklearn\\utils\\validation.py:595: DataConversionWarning: Data with input dtype object was converted to float64 by StandardScaler.\n",
      "  warnings.warn(msg, DataConversionWarning)\n",
      "D:\\conda_env\\dl_new\\lib\\site-packages\\sklearn\\utils\\validation.py:595: DataConversionWarning: Data with input dtype object was converted to float64 by StandardScaler.\n",
      "  warnings.warn(msg, DataConversionWarning)\n"
     ]
    }
   ],
   "source": [
    "# Feature Scaling\n",
    "from sklearn.preprocessing import StandardScaler\n",
    "sc = StandardScaler()\n",
    "X_train = sc.fit_transform(X_train)\n",
    "X_test = sc.transform(X_test)"
   ]
  },
  {
   "cell_type": "code",
   "execution_count": 32,
   "metadata": {},
   "outputs": [],
   "source": [
    "# Importing the Keras libraries and packages\n",
    "import keras\n",
    "from keras.models import Sequential\n",
    "from keras.layers import Dense"
   ]
  },
  {
   "cell_type": "code",
   "execution_count": 33,
   "metadata": {},
   "outputs": [],
   "source": [
    "# Initialising the ANN\n",
    "classifier = Sequential()"
   ]
  },
  {
   "cell_type": "code",
   "execution_count": 34,
   "metadata": {},
   "outputs": [],
   "source": [
    "# Adding the input layer and the first hidden layer\n",
    "classifier.add(Dense(units = 6, kernel_initializer = 'uniform', activation = 'relu', input_dim = 12))"
   ]
  },
  {
   "cell_type": "code",
   "execution_count": 35,
   "metadata": {},
   "outputs": [],
   "source": [
    "# Adding the second hidden layer\n",
    "classifier.add(Dense(units = 6, kernel_initializer = 'uniform', activation = 'relu'))"
   ]
  },
  {
   "cell_type": "code",
   "execution_count": 36,
   "metadata": {},
   "outputs": [],
   "source": [
    "# Adding the output layer\n",
    "classifier.add(Dense(units = 1, kernel_initializer = 'uniform', activation = 'sigmoid'))"
   ]
  },
  {
   "cell_type": "code",
   "execution_count": 37,
   "metadata": {},
   "outputs": [],
   "source": [
    "# Compiling the ANN\n",
    "classifier.compile(optimizer = 'adam', loss = 'binary_crossentropy', metrics = ['accuracy'])"
   ]
  },
  {
   "cell_type": "code",
   "execution_count": 38,
   "metadata": {},
   "outputs": [
    {
     "name": "stdout",
     "output_type": "stream",
     "text": [
      "Epoch 1/100\n",
      "480/480 [==============================] - 2s 5ms/step - loss: 0.6883 - acc: 0.6917\n",
      "Epoch 2/100\n",
      "480/480 [==============================] - 0s 405us/step - loss: 0.6724 - acc: 0.6917\n",
      "Epoch 3/100\n",
      "480/480 [==============================] - 0s 401us/step - loss: 0.6355 - acc: 0.6917\n",
      "Epoch 4/100\n",
      "480/480 [==============================] - 0s 478us/step - loss: 0.5807 - acc: 0.6917\n",
      "Epoch 5/100\n",
      "480/480 [==============================] - 0s 392us/step - loss: 0.5331 - acc: 0.7875\n",
      "Epoch 6/100\n",
      "480/480 [==============================] - 0s 367us/step - loss: 0.5080 - acc: 0.8083\n",
      "Epoch 7/100\n",
      "480/480 [==============================] - 0s 565us/step - loss: 0.4946 - acc: 0.8083\n",
      "Epoch 8/100\n",
      "480/480 [==============================] - 0s 440us/step - loss: 0.4837 - acc: 0.8125\n",
      "Epoch 9/100\n",
      "480/480 [==============================] - 0s 409us/step - loss: 0.4748 - acc: 0.8146\n",
      "Epoch 10/100\n",
      "480/480 [==============================] - 0s 362us/step - loss: 0.4675 - acc: 0.8146\n",
      "Epoch 11/100\n",
      "480/480 [==============================] - 0s 445us/step - loss: 0.4623 - acc: 0.8146\n",
      "Epoch 12/100\n",
      "480/480 [==============================] - 0s 389us/step - loss: 0.4582 - acc: 0.8167\n",
      "Epoch 13/100\n",
      "480/480 [==============================] - 0s 438us/step - loss: 0.4556 - acc: 0.8167\n",
      "Epoch 14/100\n",
      "480/480 [==============================] - 0s 377us/step - loss: 0.4540 - acc: 0.8167\n",
      "Epoch 15/100\n",
      "480/480 [==============================] - 0s 488us/step - loss: 0.4523 - acc: 0.8187\n",
      "Epoch 16/100\n",
      "480/480 [==============================] - 0s 418us/step - loss: 0.4517 - acc: 0.8187\n",
      "Epoch 17/100\n",
      "480/480 [==============================] - 0s 505us/step - loss: 0.4500 - acc: 0.8187\n",
      "Epoch 18/100\n",
      "480/480 [==============================] - 0s 513us/step - loss: 0.4490 - acc: 0.8187\n",
      "Epoch 19/100\n",
      "480/480 [==============================] - 0s 403us/step - loss: 0.4484 - acc: 0.8208\n",
      "Epoch 20/100\n",
      "480/480 [==============================] - 0s 369us/step - loss: 0.4479 - acc: 0.8188\n",
      "Epoch 21/100\n",
      "480/480 [==============================] - 0s 373us/step - loss: 0.4470 - acc: 0.8188\n",
      "Epoch 22/100\n",
      "480/480 [==============================] - 0s 362us/step - loss: 0.4465 - acc: 0.8187\n",
      "Epoch 23/100\n",
      "480/480 [==============================] - 0s 366us/step - loss: 0.4455 - acc: 0.8187\n",
      "Epoch 24/100\n",
      "480/480 [==============================] - 0s 364us/step - loss: 0.4448 - acc: 0.8187\n",
      "Epoch 25/100\n",
      "480/480 [==============================] - 0s 465us/step - loss: 0.4444 - acc: 0.8208\n",
      "Epoch 26/100\n",
      "480/480 [==============================] - 0s 421us/step - loss: 0.4436 - acc: 0.8250\n",
      "Epoch 27/100\n",
      "480/480 [==============================] - 0s 410us/step - loss: 0.4426 - acc: 0.8250\n",
      "Epoch 28/100\n",
      "480/480 [==============================] - 0s 364us/step - loss: 0.4424 - acc: 0.8229\n",
      "Epoch 29/100\n",
      "480/480 [==============================] - 0s 403us/step - loss: 0.4415 - acc: 0.8250\n",
      "Epoch 30/100\n",
      "480/480 [==============================] - 0s 397us/step - loss: 0.4411 - acc: 0.8229\n",
      "Epoch 31/100\n",
      "480/480 [==============================] - 0s 426us/step - loss: 0.4412 - acc: 0.8271\n",
      "Epoch 32/100\n",
      "480/480 [==============================] - 0s 429us/step - loss: 0.4398 - acc: 0.8229\n",
      "Epoch 33/100\n",
      "480/480 [==============================] - 0s 428us/step - loss: 0.4396 - acc: 0.8250\n",
      "Epoch 34/100\n",
      "480/480 [==============================] - 0s 376us/step - loss: 0.4392 - acc: 0.8271\n",
      "Epoch 35/100\n",
      "480/480 [==============================] - 0s 374us/step - loss: 0.4380 - acc: 0.8271\n",
      "Epoch 36/100\n",
      "480/480 [==============================] - 0s 426us/step - loss: 0.4378 - acc: 0.8250\n",
      "Epoch 37/100\n",
      "480/480 [==============================] - ETA: 0s - loss: 0.4398 - acc: 0.826 - 0s 380us/step - loss: 0.4365 - acc: 0.8292\n",
      "Epoch 38/100\n",
      "480/480 [==============================] - 0s 425us/step - loss: 0.4364 - acc: 0.8271\n",
      "Epoch 39/100\n",
      "480/480 [==============================] - 0s 316us/step - loss: 0.4357 - acc: 0.8292\n",
      "Epoch 40/100\n",
      "480/480 [==============================] - 0s 377us/step - loss: 0.4348 - acc: 0.8271\n",
      "Epoch 41/100\n",
      "480/480 [==============================] - 0s 414us/step - loss: 0.4342 - acc: 0.8250\n",
      "Epoch 42/100\n",
      "480/480 [==============================] - 0s 355us/step - loss: 0.4342 - acc: 0.8292\n",
      "Epoch 43/100\n",
      "480/480 [==============================] - 0s 347us/step - loss: 0.4339 - acc: 0.8292\n",
      "Epoch 44/100\n",
      "480/480 [==============================] - 0s 424us/step - loss: 0.4330 - acc: 0.8271\n",
      "Epoch 45/100\n",
      "480/480 [==============================] - 0s 337us/step - loss: 0.4328 - acc: 0.8271\n",
      "Epoch 46/100\n",
      "480/480 [==============================] - 0s 423us/step - loss: 0.4325 - acc: 0.8271\n",
      "Epoch 47/100\n",
      "480/480 [==============================] - 0s 382us/step - loss: 0.4324 - acc: 0.8271\n",
      "Epoch 48/100\n",
      "480/480 [==============================] - 0s 326us/step - loss: 0.4320 - acc: 0.8271\n",
      "Epoch 49/100\n",
      "480/480 [==============================] - 0s 318us/step - loss: 0.4316 - acc: 0.8271\n",
      "Epoch 50/100\n",
      "480/480 [==============================] - 0s 322us/step - loss: 0.4319 - acc: 0.8250\n",
      "Epoch 51/100\n",
      "480/480 [==============================] - 0s 339us/step - loss: 0.4310 - acc: 0.8271\n",
      "Epoch 52/100\n",
      "480/480 [==============================] - 0s 372us/step - loss: 0.4306 - acc: 0.8292\n",
      "Epoch 53/100\n",
      "480/480 [==============================] - 0s 401us/step - loss: 0.4303 - acc: 0.8292\n",
      "Epoch 54/100\n",
      "480/480 [==============================] - 0s 349us/step - loss: 0.4298 - acc: 0.8271\n",
      "Epoch 55/100\n",
      "480/480 [==============================] - 0s 392us/step - loss: 0.4294 - acc: 0.8292\n",
      "Epoch 56/100\n",
      "480/480 [==============================] - 0s 381us/step - loss: 0.4291 - acc: 0.8271\n",
      "Epoch 57/100\n",
      "480/480 [==============================] - 0s 369us/step - loss: 0.4290 - acc: 0.8292\n",
      "Epoch 58/100\n",
      "480/480 [==============================] - 0s 438us/step - loss: 0.4276 - acc: 0.8271\n",
      "Epoch 59/100\n",
      "480/480 [==============================] - 0s 428us/step - loss: 0.4288 - acc: 0.8292\n",
      "Epoch 60/100\n",
      "480/480 [==============================] - 0s 345us/step - loss: 0.4265 - acc: 0.8292\n",
      "Epoch 61/100\n",
      "480/480 [==============================] - 0s 341us/step - loss: 0.4265 - acc: 0.8292\n",
      "Epoch 62/100\n",
      "480/480 [==============================] - 0s 324us/step - loss: 0.4261 - acc: 0.8292\n",
      "Epoch 63/100\n",
      "480/480 [==============================] - 0s 322us/step - loss: 0.4266 - acc: 0.8271\n",
      "Epoch 64/100\n",
      "480/480 [==============================] - 0s 364us/step - loss: 0.4256 - acc: 0.8312\n",
      "Epoch 65/100\n",
      "480/480 [==============================] - 0s 573us/step - loss: 0.4261 - acc: 0.8292\n",
      "Epoch 66/100\n",
      "480/480 [==============================] - 0s 351us/step - loss: 0.4253 - acc: 0.8271\n",
      "Epoch 67/100\n",
      "480/480 [==============================] - 0s 330us/step - loss: 0.4254 - acc: 0.8271\n",
      "Epoch 68/100\n",
      "480/480 [==============================] - 0s 397us/step - loss: 0.4253 - acc: 0.8292\n",
      "Epoch 69/100\n",
      "480/480 [==============================] - 0s 328us/step - loss: 0.4249 - acc: 0.8312\n",
      "Epoch 70/100\n",
      "480/480 [==============================] - 0s 334us/step - loss: 0.4247 - acc: 0.8271\n",
      "Epoch 71/100\n",
      "480/480 [==============================] - 0s 368us/step - loss: 0.4244 - acc: 0.8271\n",
      "Epoch 72/100\n",
      "480/480 [==============================] - 0s 401us/step - loss: 0.4248 - acc: 0.8312\n",
      "Epoch 73/100\n",
      "480/480 [==============================] - 0s 388us/step - loss: 0.4237 - acc: 0.8312\n",
      "Epoch 74/100\n",
      "480/480 [==============================] - 0s 359us/step - loss: 0.4239 - acc: 0.8271\n",
      "Epoch 75/100\n",
      "480/480 [==============================] - 0s 330us/step - loss: 0.4234 - acc: 0.8292\n",
      "Epoch 76/100\n",
      "480/480 [==============================] - 0s 332us/step - loss: 0.4227 - acc: 0.8292\n",
      "Epoch 77/100\n",
      "480/480 [==============================] - 0s 340us/step - loss: 0.4232 - acc: 0.8333\n",
      "Epoch 78/100\n",
      "480/480 [==============================] - 0s 343us/step - loss: 0.4227 - acc: 0.8312\n",
      "Epoch 79/100\n",
      "480/480 [==============================] - 0s 353us/step - loss: 0.4237 - acc: 0.8333\n",
      "Epoch 80/100\n",
      "480/480 [==============================] - 0s 417us/step - loss: 0.4224 - acc: 0.8333\n",
      "Epoch 81/100\n",
      "480/480 [==============================] - 0s 349us/step - loss: 0.4220 - acc: 0.8312\n",
      "Epoch 82/100\n",
      "480/480 [==============================] - 0s 324us/step - loss: 0.4229 - acc: 0.8312\n",
      "Epoch 83/100\n"
     ]
    },
    {
     "name": "stdout",
     "output_type": "stream",
     "text": [
      "480/480 [==============================] - 0s 447us/step - loss: 0.4223 - acc: 0.8354\n",
      "Epoch 84/100\n",
      "480/480 [==============================] - 0s 345us/step - loss: 0.4217 - acc: 0.8292\n",
      "Epoch 85/100\n",
      "480/480 [==============================] - 0s 324us/step - loss: 0.4215 - acc: 0.8313\n",
      "Epoch 86/100\n",
      "480/480 [==============================] - 0s 332us/step - loss: 0.4217 - acc: 0.8333\n",
      "Epoch 87/100\n",
      "480/480 [==============================] - 0s 347us/step - loss: 0.4210 - acc: 0.8312\n",
      "Epoch 88/100\n",
      "480/480 [==============================] - 0s 389us/step - loss: 0.4206 - acc: 0.8312\n",
      "Epoch 89/100\n",
      "480/480 [==============================] - 0s 382us/step - loss: 0.4202 - acc: 0.8312\n",
      "Epoch 90/100\n",
      "480/480 [==============================] - 0s 364us/step - loss: 0.4210 - acc: 0.8312\n",
      "Epoch 91/100\n",
      "480/480 [==============================] - 0s 378us/step - loss: 0.4201 - acc: 0.8333\n",
      "Epoch 92/100\n",
      "480/480 [==============================] - 0s 380us/step - loss: 0.4219 - acc: 0.8292\n",
      "Epoch 93/100\n",
      "480/480 [==============================] - 0s 438us/step - loss: 0.4200 - acc: 0.8312\n",
      "Epoch 94/100\n",
      "480/480 [==============================] - 0s 391us/step - loss: 0.4206 - acc: 0.8333\n",
      "Epoch 95/100\n",
      "480/480 [==============================] - 0s 351us/step - loss: 0.4190 - acc: 0.8333\n",
      "Epoch 96/100\n",
      "480/480 [==============================] - 0s 397us/step - loss: 0.4204 - acc: 0.8333\n",
      "Epoch 97/100\n",
      "480/480 [==============================] - 0s 391us/step - loss: 0.4190 - acc: 0.8354\n",
      "Epoch 98/100\n",
      "480/480 [==============================] - 0s 397us/step - loss: 0.4194 - acc: 0.8375\n",
      "Epoch 99/100\n",
      "480/480 [==============================] - 0s 443us/step - loss: 0.4190 - acc: 0.8312\n",
      "Epoch 100/100\n",
      "480/480 [==============================] - 0s 355us/step - loss: 0.4184 - acc: 0.8333\n"
     ]
    },
    {
     "data": {
      "text/plain": [
       "<keras.callbacks.History at 0x22664d125f8>"
      ]
     },
     "execution_count": 38,
     "metadata": {},
     "output_type": "execute_result"
    }
   ],
   "source": [
    "# Fitting the ANN to the Training set\n",
    "classifier.fit(X_train, y_train, batch_size = 10, epochs = 100)"
   ]
  },
  {
   "cell_type": "code",
   "execution_count": 39,
   "metadata": {},
   "outputs": [],
   "source": [
    "y_pred = classifier.predict(X_test)"
   ]
  },
  {
   "cell_type": "code",
   "execution_count": 40,
   "metadata": {},
   "outputs": [
    {
     "data": {
      "text/plain": [
       "array([[0.8161325 ],\n",
       "       [0.8411665 ],\n",
       "       [0.8688414 ],\n",
       "       [0.63744533],\n",
       "       [0.6358804 ],\n",
       "       [0.8256499 ],\n",
       "       [0.05605446],\n",
       "       [0.90917486],\n",
       "       [0.6193546 ],\n",
       "       [0.83630157],\n",
       "       [0.81620127],\n",
       "       [0.85360694],\n",
       "       [0.92515296],\n",
       "       [0.3293666 ],\n",
       "       [0.88369256],\n",
       "       [0.8408599 ],\n",
       "       [0.5581758 ],\n",
       "       [0.4729999 ],\n",
       "       [0.5190561 ],\n",
       "       [0.03576726],\n",
       "       [0.5517987 ],\n",
       "       [0.78229624],\n",
       "       [0.8581078 ],\n",
       "       [0.88554513],\n",
       "       [0.91385794],\n",
       "       [0.7925581 ],\n",
       "       [0.84159786],\n",
       "       [0.08397467],\n",
       "       [0.83533883],\n",
       "       [0.75009507],\n",
       "       [0.6998283 ],\n",
       "       [0.8096175 ],\n",
       "       [0.687793  ],\n",
       "       [0.94268703],\n",
       "       [0.82208467],\n",
       "       [0.71052706],\n",
       "       [0.9126115 ],\n",
       "       [0.84575593],\n",
       "       [0.8485277 ],\n",
       "       [0.93485445],\n",
       "       [0.9072185 ],\n",
       "       [0.75916845],\n",
       "       [0.04501545],\n",
       "       [0.4980412 ],\n",
       "       [0.881561  ],\n",
       "       [0.08742485],\n",
       "       [0.8655198 ],\n",
       "       [0.930034  ],\n",
       "       [0.86470145],\n",
       "       [0.74800336],\n",
       "       [0.0564384 ],\n",
       "       [0.8207463 ],\n",
       "       [0.93571174],\n",
       "       [0.05942939],\n",
       "       [0.07243612],\n",
       "       [0.8987089 ],\n",
       "       [0.03426968],\n",
       "       [0.9240512 ],\n",
       "       [0.77879006],\n",
       "       [0.877921  ],\n",
       "       [0.6235972 ],\n",
       "       [0.7563651 ],\n",
       "       [0.7511458 ],\n",
       "       [0.67003757],\n",
       "       [0.07073429],\n",
       "       [0.9833249 ],\n",
       "       [0.01894095],\n",
       "       [0.5558979 ],\n",
       "       [0.23371647],\n",
       "       [0.7175916 ],\n",
       "       [0.80532897],\n",
       "       [0.9291916 ],\n",
       "       [0.83998   ],\n",
       "       [0.81518537],\n",
       "       [0.9238254 ],\n",
       "       [0.8880851 ],\n",
       "       [0.07094972],\n",
       "       [0.8445951 ],\n",
       "       [0.7153839 ],\n",
       "       [0.9326015 ],\n",
       "       [0.9289258 ],\n",
       "       [0.7320567 ],\n",
       "       [0.866323  ],\n",
       "       [0.67500335],\n",
       "       [0.87126297],\n",
       "       [0.8344626 ],\n",
       "       [0.9402141 ],\n",
       "       [0.61358863],\n",
       "       [0.7999407 ],\n",
       "       [0.6901704 ],\n",
       "       [0.8842014 ],\n",
       "       [0.7439338 ],\n",
       "       [0.8857732 ],\n",
       "       [0.04746117],\n",
       "       [0.05237857],\n",
       "       [0.7910572 ],\n",
       "       [0.8119093 ],\n",
       "       [0.87964314],\n",
       "       [0.03791345],\n",
       "       [0.0371802 ],\n",
       "       [0.9038968 ],\n",
       "       [0.04464417],\n",
       "       [0.89073014],\n",
       "       [0.82208353],\n",
       "       [0.82355857],\n",
       "       [0.7671889 ],\n",
       "       [0.8269825 ],\n",
       "       [0.7139179 ],\n",
       "       [0.8406402 ],\n",
       "       [0.82471615],\n",
       "       [0.8269393 ],\n",
       "       [0.8509375 ],\n",
       "       [0.04305875],\n",
       "       [0.75965   ],\n",
       "       [0.8258519 ],\n",
       "       [0.818787  ],\n",
       "       [0.899241  ],\n",
       "       [0.06016472],\n",
       "       [0.94229007],\n",
       "       [0.7685296 ],\n",
       "       [0.5634781 ],\n",
       "       [0.8353912 ],\n",
       "       [0.6949751 ],\n",
       "       [0.0419649 ],\n",
       "       [0.85513973],\n",
       "       [0.8669865 ],\n",
       "       [0.81373197],\n",
       "       [0.8094133 ],\n",
       "       [0.8295545 ],\n",
       "       [0.47620043],\n",
       "       [0.61630285],\n",
       "       [0.78313977],\n",
       "       [0.7403632 ],\n",
       "       [0.07640415],\n",
       "       [0.0742235 ],\n",
       "       [0.7974439 ],\n",
       "       [0.7679047 ],\n",
       "       [0.7141972 ],\n",
       "       [0.6710003 ],\n",
       "       [0.7984358 ],\n",
       "       [0.19175541],\n",
       "       [0.04668611],\n",
       "       [0.7723403 ],\n",
       "       [0.8302606 ],\n",
       "       [0.93153656],\n",
       "       [0.91999394],\n",
       "       [0.89286786],\n",
       "       [0.66187745],\n",
       "       [0.8701306 ],\n",
       "       [0.8858221 ],\n",
       "       [0.5983063 ],\n",
       "       [0.6247302 ],\n",
       "       [0.7832255 ],\n",
       "       [0.06852387],\n",
       "       [0.75461787],\n",
       "       [0.75009507],\n",
       "       [0.07441207],\n",
       "       [0.797734  ],\n",
       "       [0.05896617],\n",
       "       [0.8803371 ],\n",
       "       [0.46468556],\n",
       "       [0.81082743],\n",
       "       [0.9159663 ],\n",
       "       [0.9066411 ],\n",
       "       [0.94618976],\n",
       "       [0.9176801 ],\n",
       "       [0.9490084 ],\n",
       "       [0.7224619 ],\n",
       "       [0.7048609 ],\n",
       "       [0.03687564],\n",
       "       [0.89976364],\n",
       "       [0.68159866],\n",
       "       [0.8204889 ],\n",
       "       [0.84836847],\n",
       "       [0.55649567],\n",
       "       [0.7981678 ],\n",
       "       [0.83006454],\n",
       "       [0.6545399 ],\n",
       "       [0.41701952],\n",
       "       [0.57513094],\n",
       "       [0.2152489 ],\n",
       "       [0.6968612 ],\n",
       "       [0.84105694],\n",
       "       [0.8326918 ],\n",
       "       [0.79252803],\n",
       "       [0.07169506],\n",
       "       [0.45492986],\n",
       "       [0.88419044],\n",
       "       [0.7676481 ],\n",
       "       [0.6909016 ],\n",
       "       [0.03912856],\n",
       "       [0.09732909],\n",
       "       [0.5182891 ],\n",
       "       [0.9047466 ],\n",
       "       [0.2808228 ],\n",
       "       [0.6022642 ],\n",
       "       [0.07018644],\n",
       "       [0.9509415 ],\n",
       "       [0.867151  ],\n",
       "       [0.8563698 ],\n",
       "       [0.9213234 ],\n",
       "       [0.69547915],\n",
       "       [0.02302696],\n",
       "       [0.7933179 ],\n",
       "       [0.88454545],\n",
       "       [0.78716457],\n",
       "       [0.75217617],\n",
       "       [0.7414178 ],\n",
       "       [0.78872174],\n",
       "       [0.8499489 ],\n",
       "       [0.9501789 ],\n",
       "       [0.6251994 ],\n",
       "       [0.8145186 ],\n",
       "       [0.01448648],\n",
       "       [0.5031858 ],\n",
       "       [0.05160782],\n",
       "       [0.7910152 ],\n",
       "       [0.60784954],\n",
       "       [0.7261166 ],\n",
       "       [0.7861926 ],\n",
       "       [0.07510436],\n",
       "       [0.10140596],\n",
       "       [0.9340961 ],\n",
       "       [0.62330323],\n",
       "       [0.936992  ],\n",
       "       [0.8144098 ],\n",
       "       [0.35805935],\n",
       "       [0.26267877],\n",
       "       [0.76856154],\n",
       "       [0.92862964],\n",
       "       [0.8653105 ],\n",
       "       [0.7427335 ],\n",
       "       [0.03512784],\n",
       "       [0.84110737],\n",
       "       [0.8074899 ],\n",
       "       [0.8343799 ],\n",
       "       [0.8875301 ],\n",
       "       [0.95763373],\n",
       "       [0.8404087 ],\n",
       "       [0.6969067 ],\n",
       "       [0.7820519 ],\n",
       "       [0.9266275 ],\n",
       "       [0.767822  ],\n",
       "       [0.09436984],\n",
       "       [0.8285013 ],\n",
       "       [0.6808154 ],\n",
       "       [0.76699525],\n",
       "       [0.7095421 ],\n",
       "       [0.04065989],\n",
       "       [0.6857922 ],\n",
       "       [0.83809143],\n",
       "       [0.40563822],\n",
       "       [0.9095506 ],\n",
       "       [0.83252794],\n",
       "       [0.5177474 ],\n",
       "       [0.88784266],\n",
       "       [0.8320394 ],\n",
       "       [0.7931873 ],\n",
       "       [0.8988669 ],\n",
       "       [0.5107234 ],\n",
       "       [0.8951924 ],\n",
       "       [0.96899366],\n",
       "       [0.8132806 ],\n",
       "       [0.8375758 ],\n",
       "       [0.7707562 ],\n",
       "       [0.04679909],\n",
       "       [0.8999315 ],\n",
       "       [0.72028214],\n",
       "       [0.5852864 ],\n",
       "       [0.8736558 ],\n",
       "       [0.64238244],\n",
       "       [0.8972077 ],\n",
       "       [0.03812908],\n",
       "       [0.6616711 ],\n",
       "       [0.7955546 ],\n",
       "       [0.8221041 ],\n",
       "       [0.8086467 ],\n",
       "       [0.7998032 ],\n",
       "       [0.7706822 ],\n",
       "       [0.37496352],\n",
       "       [0.893641  ],\n",
       "       [0.84896123],\n",
       "       [0.78968537],\n",
       "       [0.9015858 ],\n",
       "       [0.9587895 ],\n",
       "       [0.7085119 ],\n",
       "       [0.8236363 ],\n",
       "       [0.76067924],\n",
       "       [0.6254717 ]], dtype=float32)"
      ]
     },
     "execution_count": 40,
     "metadata": {},
     "output_type": "execute_result"
    }
   ],
   "source": [
    "y_pred"
   ]
  },
  {
   "cell_type": "code",
   "execution_count": 41,
   "metadata": {},
   "outputs": [],
   "source": [
    "y_final = (y_pred > 0.5).astype(int).reshape(X_test.shape[0])"
   ]
  },
  {
   "cell_type": "code",
   "execution_count": 42,
   "metadata": {
    "scrolled": false
   },
   "outputs": [
    {
     "data": {
      "text/plain": [
       "array([1, 1, 1, 1, 1, 1, 0, 1, 1, 1, 1, 1, 1, 0, 1, 1, 1, 0, 1, 0, 1, 1,\n",
       "       1, 1, 1, 1, 1, 0, 1, 1, 1, 1, 1, 1, 1, 1, 1, 1, 1, 1, 1, 1, 0, 0,\n",
       "       1, 0, 1, 1, 1, 1, 0, 1, 1, 0, 0, 1, 0, 1, 1, 1, 1, 1, 1, 1, 0, 1,\n",
       "       0, 1, 0, 1, 1, 1, 1, 1, 1, 1, 0, 1, 1, 1, 1, 1, 1, 1, 1, 1, 1, 1,\n",
       "       1, 1, 1, 1, 1, 0, 0, 1, 1, 1, 0, 0, 1, 0, 1, 1, 1, 1, 1, 1, 1, 1,\n",
       "       1, 1, 0, 1, 1, 1, 1, 0, 1, 1, 1, 1, 1, 0, 1, 1, 1, 1, 1, 0, 1, 1,\n",
       "       1, 0, 0, 1, 1, 1, 1, 1, 0, 0, 1, 1, 1, 1, 1, 1, 1, 1, 1, 1, 1, 0,\n",
       "       1, 1, 0, 1, 0, 1, 0, 1, 1, 1, 1, 1, 1, 1, 1, 0, 1, 1, 1, 1, 1, 1,\n",
       "       1, 1, 0, 1, 0, 1, 1, 1, 1, 0, 0, 1, 1, 1, 0, 0, 1, 1, 0, 1, 0, 1,\n",
       "       1, 1, 1, 1, 0, 1, 1, 1, 1, 1, 1, 1, 1, 1, 1, 0, 1, 0, 1, 1, 1, 1,\n",
       "       0, 0, 1, 1, 1, 1, 0, 0, 1, 1, 1, 1, 0, 1, 1, 1, 1, 1, 1, 1, 1, 1,\n",
       "       1, 0, 1, 1, 1, 1, 0, 1, 1, 0, 1, 1, 1, 1, 1, 1, 1, 1, 1, 1, 1, 1,\n",
       "       1, 0, 1, 1, 1, 1, 1, 1, 0, 1, 1, 1, 1, 1, 1, 0, 1, 1, 1, 1, 1, 1,\n",
       "       1, 1, 1])"
      ]
     },
     "execution_count": 42,
     "metadata": {},
     "output_type": "execute_result"
    }
   ],
   "source": [
    "y_final"
   ]
  },
  {
   "cell_type": "code",
   "execution_count": 43,
   "metadata": {
    "scrolled": true
   },
   "outputs": [
    {
     "data": {
      "text/html": [
       "<div>\n",
       "<style scoped>\n",
       "    .dataframe tbody tr th:only-of-type {\n",
       "        vertical-align: middle;\n",
       "    }\n",
       "\n",
       "    .dataframe tbody tr th {\n",
       "        vertical-align: top;\n",
       "    }\n",
       "\n",
       "    .dataframe thead th {\n",
       "        text-align: right;\n",
       "    }\n",
       "</style>\n",
       "<table border=\"1\" class=\"dataframe\">\n",
       "  <thead>\n",
       "    <tr style=\"text-align: right;\">\n",
       "      <th></th>\n",
       "      <th>Loan_ID</th>\n",
       "      <th>Loan_Status</th>\n",
       "    </tr>\n",
       "  </thead>\n",
       "  <tbody>\n",
       "    <tr>\n",
       "      <th>0</th>\n",
       "      <td>LP001015</td>\n",
       "      <td>1</td>\n",
       "    </tr>\n",
       "    <tr>\n",
       "      <th>1</th>\n",
       "      <td>LP001022</td>\n",
       "      <td>1</td>\n",
       "    </tr>\n",
       "    <tr>\n",
       "      <th>2</th>\n",
       "      <td>LP001031</td>\n",
       "      <td>1</td>\n",
       "    </tr>\n",
       "    <tr>\n",
       "      <th>3</th>\n",
       "      <td>LP001051</td>\n",
       "      <td>1</td>\n",
       "    </tr>\n",
       "    <tr>\n",
       "      <th>4</th>\n",
       "      <td>LP001054</td>\n",
       "      <td>1</td>\n",
       "    </tr>\n",
       "  </tbody>\n",
       "</table>\n",
       "</div>"
      ],
      "text/plain": [
       "    Loan_ID  Loan_Status\n",
       "0  LP001015            1\n",
       "1  LP001022            1\n",
       "2  LP001031            1\n",
       "3  LP001051            1\n",
       "4  LP001054            1"
      ]
     },
     "execution_count": 43,
     "metadata": {},
     "output_type": "execute_result"
    }
   ],
   "source": [
    "submission = pd.DataFrame({'Loan_ID':test['Loan_ID'],'Loan_Status':y_final})\n",
    "submission.head()"
   ]
  },
  {
   "cell_type": "code",
   "execution_count": 44,
   "metadata": {},
   "outputs": [],
   "source": [
    "submission.to_csv('prediction.csv', index=False)"
   ]
  }
 ],
 "metadata": {
  "kernelspec": {
   "display_name": "Python 3",
   "language": "python",
   "name": "python3"
  },
  "language_info": {
   "codemirror_mode": {
    "name": "ipython",
    "version": 3
   },
   "file_extension": ".py",
   "mimetype": "text/x-python",
   "name": "python",
   "nbconvert_exporter": "python",
   "pygments_lexer": "ipython3",
   "version": "3.6.8"
  }
 },
 "nbformat": 4,
 "nbformat_minor": 2
}
